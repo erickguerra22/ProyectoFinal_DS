{
 "cells": [
  {
   "cell_type": "code",
   "execution_count": 4,
   "metadata": {},
   "outputs": [],
   "source": [
    "import pandas as pd\n",
    "import numpy as np\n",
    "import seaborn as sns\n",
    "import matplotlib.pyplot as plt"
   ]
  },
  {
   "cell_type": "code",
   "execution_count": 2,
   "metadata": {},
   "outputs": [],
   "source": [
    "def read_csv(file):\n",
    "    df=pd.read_csv(file)\n",
    "    return df"
   ]
  },
  {
   "cell_type": "code",
   "execution_count": 3,
   "metadata": {},
   "outputs": [],
   "source": [
    "#Revision de estructura\n",
    "def shape(df):\n",
    "    return df.shape()\n",
    "def info(df):\n",
    "    return df.info()\n",
    "def describe(df):\n",
    "    return df.describe()\n",
    "def describe_cat(df):\n",
    "    return df.describe(include=['O'])\n",
    "def null(df):\n",
    "    return df.isnull().sum()\n",
    "def dupl(df):\n",
    "    return df.duplicated().sum()\n",
    "\n",
    "    "
   ]
  },
  {
   "cell_type": "code",
   "execution_count": 5,
   "metadata": {},
   "outputs": [],
   "source": [
    "#Analisis  de variables numericas y categoricas\n",
    "def hist(df):\n",
    "    df.hist(figsize=(10,8),bins=30)\n",
    "    plt.show()\n",
    "def boxplot(df):\n",
    "    sns.boxplot(data=df)\n",
    "    plt.show()\n",
    "def cat_frequency(df):\n",
    "    for col in df.select_dtypes(include=['object']).columns:\n",
    "        sns.countplot(x=col, data=df)\n",
    "        plt.xticks(rotation=45)\n",
    "        plt.show()\n",
    "\n",
    "#Correlacion de datos\n",
    "def corr(df):\n",
    "    corr=df.corr()\n",
    "    sns.heatmap(corr,annot=True,cmap='coolwarm')\n",
    "    plt.show()\n",
    "def pairplot(df):\n",
    "    sns.pairplot(df)\n",
    "    plt.show()"
   ]
  },
  {
   "cell_type": "markdown",
   "metadata": {},
   "source": [
    "### Analisis exploratorio"
   ]
  },
  {
   "cell_type": "markdown",
   "metadata": {},
   "source": []
  }
 ],
 "metadata": {
  "kernelspec": {
   "display_name": "numpy_env",
   "language": "python",
   "name": "python3"
  },
  "language_info": {
   "codemirror_mode": {
    "name": "ipython",
    "version": 3
   },
   "file_extension": ".py",
   "mimetype": "text/x-python",
   "name": "python",
   "nbconvert_exporter": "python",
   "pygments_lexer": "ipython3",
   "version": "3.9.13"
  }
 },
 "nbformat": 4,
 "nbformat_minor": 2
}
